{
 "cells": [
  {
   "cell_type": "code",
   "execution_count": 4,
   "metadata": {
    "collapsed": false
   },
   "outputs": [
    {
     "ename": "SyntaxError",
     "evalue": "invalid syntax (<ipython-input-4-9ebc3af0198f>, line 1)",
     "output_type": "error",
     "traceback": [
      "\u001b[0;36m  File \u001b[0;32m\"<ipython-input-4-9ebc3af0198f>\"\u001b[0;36m, line \u001b[0;32m1\u001b[0m\n\u001b[0;31m    scrapy shell \"http://en.katabiblon.com/us/index.php?text=LXX&book=Wsd&ch=4\"\u001b[0m\n\u001b[0m               ^\u001b[0m\n\u001b[0;31mSyntaxError\u001b[0m\u001b[0;31m:\u001b[0m invalid syntax\n"
     ]
    }
   ],
   "source": [
    "scrapy shell \"http://en.katabiblon.com/us/index.php?text=LXX&book=Wsd&ch=4\"\n",
    "scrapy"
   ]
  },
  {
   "cell_type": "code",
   "execution_count": 5,
   "metadata": {
    "collapsed": false
   },
   "outputs": [
    {
     "ename": "NameError",
     "evalue": "name 'scrapy' is not defined",
     "output_type": "error",
     "traceback": [
      "\u001b[0;31m---------------------------------------------------------------------------\u001b[0m",
      "\u001b[0;31mNameError\u001b[0m                                 Traceback (most recent call last)",
      "\u001b[0;32m<ipython-input-5-53e3b434995a>\u001b[0m in \u001b[0;36m<module>\u001b[0;34m()\u001b[0m\n\u001b[0;32m----> 1\u001b[0;31m \u001b[0mscrapy\u001b[0m\u001b[1;33m\u001b[0m\u001b[0m\n\u001b[0m",
      "\u001b[0;31mNameError\u001b[0m: name 'scrapy' is not defined"
     ]
    }
   ],
   "source": [
    "scrapy"
   ]
  },
  {
   "cell_type": "code",
   "execution_count": 6,
   "metadata": {
    "collapsed": false
   },
   "outputs": [
    {
     "data": {
      "text/plain": [
       "{'ALLUSERSPROFILE': 'C:\\\\ProgramData',\n",
       " 'APPDATA': 'C:\\\\Users\\\\mloch\\\\AppData\\\\Roaming',\n",
       " 'CHOCOLATEYINSTALL': 'C:\\\\ProgramData\\\\chocolatey',\n",
       " 'CHOCOLATEYLASTPATHUPDATE': 'Mon Jul 25 21:58:52 2016',\n",
       " 'CLASSPATH': '.;C:\\\\PROGRA~2\\\\IBM\\\\SQLLIB\\\\java\\\\DB2JCC~1.JAR',\n",
       " 'CLICOLOR': '1',\n",
       " 'COMMONPROGRAMFILES': 'C:\\\\Program Files\\\\Common Files',\n",
       " 'COMMONPROGRAMFILES(X86)': 'C:\\\\Program Files (x86)\\\\Common Files',\n",
       " 'COMMONPROGRAMW6432': 'C:\\\\Program Files\\\\Common Files',\n",
       " 'COMPUTERNAME': 'MISSIONS01',\n",
       " 'COMSPEC': 'C:\\\\WINDOWS\\\\system32\\\\cmd.exe',\n",
       " 'CYGWIN_HOME': 'C:\\\\cygwin64',\n",
       " 'FP_NO_HOST_CHECK': 'NO',\n",
       " 'GIT_PAGER': 'cat',\n",
       " 'HOMEDRIVE': 'C:',\n",
       " 'HOMEPATH': '\\\\Users\\\\mloch',\n",
       " 'IPY_INTERRUPT_EVENT': '1824',\n",
       " 'JAVA_HOME': 'C:\\\\Program Files\\\\Java\\\\jdk1.8.0_31',\n",
       " 'JAVA_PATH': 'C:\\\\Program Files\\\\Java\\\\jdk1.8.0_31\\\\bin',\n",
       " 'JPY_INTERRUPT_EVENT': '1824',\n",
       " 'JPY_PARENT_PID': '1796',\n",
       " 'LOCALAPPDATA': 'C:\\\\Users\\\\mloch\\\\AppData\\\\Local',\n",
       " 'LOGONSERVER': '\\\\\\\\MISSIONS01',\n",
       " 'MAGICK_CONFIGURE_PATH': 'C:\\\\Program Files (x86)\\\\OpenShot Video Editor\\\\ImageMagick\\\\etc\\\\configuration',\n",
       " 'MPLBACKEND': 'module://ipykernel.pylab.backend_inline',\n",
       " 'NUMBER_OF_PROCESSORS': '8',\n",
       " 'OS': 'Windows_NT',\n",
       " 'PAGER': 'cat',\n",
       " 'PATH': 'C:\\\\Users\\\\mloch\\\\Desktop\\\\scrapy\\\\calenv\\\\Scripts;C:\\\\Python27\\\\;C:\\\\Python27\\\\Scripts;C:\\\\ProgramData\\\\Oracle\\\\Java\\\\javapath;C:\\\\Program Files (x86)\\\\Mozilla Firefox;C:\\\\Program Files\\\\Git\\\\cmd;C:\\\\Program Files (x86)\\\\DevDesktop\\\\php5_5;C:\\\\ProgramData\\\\ComposerSetup\\\\;C:\\\\Program Files (x86)\\\\Windows Live\\\\Shared;C:\\\\Program Files (x86)\\\\DevDesktop\\\\drush;C:\\\\ProgramData\\\\chocolatey\\\\bin;C:\\\\WINDOWS\\\\system32;C:\\\\WINDOWS;C:\\\\WINDOWS\\\\System32\\\\Wbem;C:\\\\WINDOWS\\\\System32\\\\WindowsPowerShell\\\\v1.0\\\\;C:\\\\Program Files (x86)\\\\Calibre2\\\\;C:\\\\Program Files (x86)\\\\nodejs\\\\;C:\\\\Program Files (x86)\\\\Brackets\\\\command;C:\\\\Python34\\\\Scripts;C:\\\\Python34;C:\\\\Program Files (x86)\\\\Windows Kits\\\\8.1\\\\Windows Performance Toolkit\\\\;C:\\\\Users\\\\mloch\\\\AppData\\\\Local\\\\Programs\\\\Python\\\\Python36\\\\Scripts\\\\;C:\\\\Users\\\\mloch\\\\AppData\\\\Local\\\\Programs\\\\Python\\\\Python36\\\\;C:\\\\Windows\\\\System32;C:\\\\Ruby21-x64\\\\bin;C:\\\\ProgramData\\\\mloch\\\\atom\\\\bin;C:\\\\Users\\\\mloch\\\\AppData\\\\Local\\\\Microsoft\\\\WindowsApps;C:\\\\Users\\\\mloch\\\\AppData\\\\Local\\\\atom\\\\bin;C:\\\\sqlite;C:\\\\cygwin64\\\\bin;C:\\\\Users\\\\mloch\\\\Desktop\\\\scrapy\\\\calenv\\\\selenium;C:\\\\Users\\\\mloch\\\\AppData\\\\Roaming\\\\npm;c:\\\\users\\\\mloch\\\\desktop\\\\scrapy\\\\calenv\\\\lib\\\\site-packages\\\\pywin32_system32;c:\\\\users\\\\mloch\\\\desktop\\\\scrapy\\\\calenv\\\\lib\\\\site-packages\\\\pywin32_system32;c:\\\\users\\\\mloch\\\\desktop\\\\scrapy\\\\calenv\\\\lib\\\\site-packages\\\\pywin32_system32',\n",
       " 'PATHEXT': '.COM;.EXE;.BAT;.CMD;.VBS;.VBE;.JS;.JSE;.WSF;.WSH;.MSC;.PY;.RB;.RBW',\n",
       " 'PROCESSOR_ARCHITECTURE': 'AMD64',\n",
       " 'PROCESSOR_IDENTIFIER': 'Intel64 Family 6 Model 60 Stepping 3, GenuineIntel',\n",
       " 'PROCESSOR_LEVEL': '6',\n",
       " 'PROCESSOR_REVISION': '3c03',\n",
       " 'PROGRAMDATA': 'C:\\\\ProgramData',\n",
       " 'PROGRAMFILES': 'C:\\\\Program Files',\n",
       " 'PROGRAMFILES(X86)': 'C:\\\\Program Files (x86)',\n",
       " 'PROGRAMW6432': 'C:\\\\Program Files',\n",
       " 'PROMPT': '(calenv) $P$G',\n",
       " 'PSMODULEPATH': 'C:\\\\WINDOWS\\\\system32\\\\WindowsPowerShell\\\\v1.0\\\\Modules\\\\',\n",
       " 'PUBLIC': 'C:\\\\Users\\\\Public',\n",
       " 'QT_PLUGIN_PATH': 'C:\\\\Program Files (x86)\\\\OpenShot Video Editor\\\\',\n",
       " 'SESSIONNAME': 'Console',\n",
       " 'SYSTEMDRIVE': 'C:',\n",
       " 'SYSTEMROOT': 'C:\\\\WINDOWS',\n",
       " 'TEMP': 'C:\\\\Users\\\\mloch\\\\AppData\\\\Local\\\\Temp',\n",
       " 'TERM': 'xterm-color',\n",
       " 'TESSDATA_PREFIX': 'C:\\\\Program Files (x86)\\\\Tesseract-OCR\\\\',\n",
       " 'TMP': 'C:\\\\Users\\\\mloch\\\\AppData\\\\Local\\\\Temp',\n",
       " 'USERDOMAIN': 'Missions01',\n",
       " 'USERDOMAIN_ROAMINGPROFILE': 'Missions01',\n",
       " 'USERNAME': 'mloch',\n",
       " 'USERPROFILE': 'C:\\\\Users\\\\mloch',\n",
       " 'VBOX_MSI_INSTALL_PATH': 'C:\\\\Program Files\\\\Oracle\\\\VirtualBox\\\\',\n",
       " 'VIRTUAL_ENV': 'C:\\\\Users\\\\mloch\\\\Desktop\\\\scrapy\\\\calenv',\n",
       " 'VS140COMNTOOLS': 'C:\\\\Program Files (x86)\\\\Microsoft Visual Studio 14.0\\\\Common7\\\\Tools\\\\',\n",
       " 'WERKZEUG_DEBUG_PIN': 'off',\n",
       " 'WINDIR': 'C:\\\\WINDOWS',\n",
       " 'WINDROYEBOX_CFPATH': 'C:\\\\ProgramData\\\\WindroyeBox\\\\.WindroyeBox',\n",
       " '_OLD_VIRTUAL_PATH': 'C:\\\\Python27\\\\;C:\\\\Python27\\\\Scripts;C:\\\\ProgramData\\\\Oracle\\\\Java\\\\javapath;C:\\\\Program Files (x86)\\\\Mozilla Firefox;C:\\\\Program Files\\\\Git\\\\cmd;C:\\\\Program Files (x86)\\\\DevDesktop\\\\php5_5;C:\\\\ProgramData\\\\ComposerSetup\\\\;C:\\\\Program Files (x86)\\\\Windows Live\\\\Shared;C:\\\\Program Files (x86)\\\\DevDesktop\\\\drush;C:\\\\ProgramData\\\\chocolatey\\\\bin;C:\\\\WINDOWS\\\\system32;C:\\\\WINDOWS;C:\\\\WINDOWS\\\\System32\\\\Wbem;C:\\\\WINDOWS\\\\System32\\\\WindowsPowerShell\\\\v1.0\\\\;C:\\\\Program Files (x86)\\\\Calibre2\\\\;C:\\\\Program Files (x86)\\\\nodejs\\\\;C:\\\\Program Files (x86)\\\\Brackets\\\\command;C:\\\\Python34\\\\Scripts;C:\\\\Python34;C:\\\\Program Files (x86)\\\\Windows Kits\\\\8.1\\\\Windows Performance Toolkit\\\\;C:\\\\Users\\\\mloch\\\\AppData\\\\Local\\\\Programs\\\\Python\\\\Python36\\\\Scripts\\\\;C:\\\\Users\\\\mloch\\\\AppData\\\\Local\\\\Programs\\\\Python\\\\Python36\\\\;C:\\\\Windows\\\\System32;C:\\\\Ruby21-x64\\\\bin;C:\\\\ProgramData\\\\mloch\\\\atom\\\\bin;C:\\\\Users\\\\mloch\\\\AppData\\\\Local\\\\Microsoft\\\\WindowsApps;C:\\\\Users\\\\mloch\\\\AppData\\\\Local\\\\atom\\\\bin;C:\\\\sqlite;C:\\\\cygwin64\\\\bin;C:\\\\Users\\\\mloch\\\\Desktop\\\\scrapy\\\\calenv\\\\selenium;C:\\\\Users\\\\mloch\\\\AppData\\\\Roaming\\\\npm',\n",
       " '_OLD_VIRTUAL_PROMPT': '$P$G'}"
      ]
     },
     "execution_count": 6,
     "metadata": {},
     "output_type": "execute_result"
    }
   ],
   "source": [
    "env"
   ]
  },
  {
   "cell_type": "code",
   "execution_count": 7,
   "metadata": {
    "collapsed": false
   },
   "outputs": [
    {
     "ename": "NameError",
     "evalue": "name 'scrapy' is not defined",
     "output_type": "error",
     "traceback": [
      "\u001b[0;31m---------------------------------------------------------------------------\u001b[0m",
      "\u001b[0;31mNameError\u001b[0m                                 Traceback (most recent call last)",
      "\u001b[0;32m<ipython-input-7-53e3b434995a>\u001b[0m in \u001b[0;36m<module>\u001b[0;34m()\u001b[0m\n\u001b[0;32m----> 1\u001b[0;31m \u001b[0mscrapy\u001b[0m\u001b[1;33m\u001b[0m\u001b[0m\n\u001b[0m",
      "\u001b[0;31mNameError\u001b[0m: name 'scrapy' is not defined"
     ]
    }
   ],
   "source": [
    "scrapy"
   ]
  },
  {
   "cell_type": "code",
   "execution_count": null,
   "metadata": {
    "collapsed": true
   },
   "outputs": [],
   "source": []
  }
 ],
 "metadata": {
  "kernelspec": {
   "display_name": "Python 2",
   "language": "python",
   "name": "python2"
  },
  "language_info": {
   "codemirror_mode": {
    "name": "ipython",
    "version": 2
   },
   "file_extension": ".py",
   "mimetype": "text/x-python",
   "name": "python",
   "nbconvert_exporter": "python",
   "pygments_lexer": "ipython2",
   "version": "2.7.12"
  }
 },
 "nbformat": 4,
 "nbformat_minor": 2
}
